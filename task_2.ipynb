{
 "cells": [
  {
   "cell_type": "markdown",
   "id": "3e16c135",
   "metadata": {},
   "source": [
    "Осуществить циклический сдвиг элементов прямоугольной матрицы на n элементов вправо или вниз (в зависимости от введеленного режима), n может быть больше количества элементов в строке или столбце"
   ]
  },
  {
   "cell_type": "code",
   "execution_count": 24,
   "id": "81a7f4ad",
   "metadata": {},
   "outputs": [],
   "source": [
    "import numpy as np"
   ]
  },
  {
   "cell_type": "code",
   "execution_count": 35,
   "id": "ac46c851",
   "metadata": {},
   "outputs": [
    {
     "name": "stdout",
     "output_type": "stream",
     "text": [
      "Введите количество элементов для сдвига (n): 2\n",
      "Выберите режим сбвига: right/downright\n"
     ]
    }
   ],
   "source": [
    "# Генерация матрицы\n",
    "rows = np.random.randint(3, 10)\n",
    "cols = np.random.randint(3, 10)\n",
    "matrix = np.random.randint(low=1, high=10, size=(rows, cols))\n",
    "\n",
    "n = int(input(\"Введите количество элементов для сдвига (n): \"))  # Количество элементов для сдвига\n",
    "mode = input(\"Выберите режим сбвига: right/down\")  # Режим сдвига: 'right' - вправо, 'down' - вниз"
   ]
  },
  {
   "cell_type": "code",
   "execution_count": 36,
   "id": "41f15cc4",
   "metadata": {},
   "outputs": [],
   "source": [
    "def cyclic_shift(matrix, n, mode):\n",
    "    rows, cols = matrix.shape\n",
    "\n",
    "    # Преобразование матрицы в одномерный массив\n",
    "    flattened_matrix = matrix.flatten()\n",
    "\n",
    "    # Циклический сдвиг элементов вправо\n",
    "    if mode == 'right':\n",
    "        shifted_matrix = np.roll(flattened_matrix, n)\n",
    "\n",
    "    # Циклический сдвиг элементов вниз\n",
    "    elif mode == 'down':\n",
    "        shifted_matrix = np.roll(flattened_matrix, n * cols)\n",
    "\n",
    "    # Преобразование одномерного массива обратно в матрицу\n",
    "    shifted_matrix = shifted_matrix.reshape((rows, cols))\n",
    "\n",
    "    return shifted_matrix"
   ]
  },
  {
   "cell_type": "code",
   "execution_count": 37,
   "id": "e49a1c4a",
   "metadata": {},
   "outputs": [
    {
     "name": "stdout",
     "output_type": "stream",
     "text": [
      "Исходная матрица:\n",
      "[[8 6 2 8 1 7 8]\n",
      " [1 5 6 5 5 9 1]\n",
      " [3 7 4 9 8 6 1]\n",
      " [3 4 8 9 9 3 9]\n",
      " [2 3 2 3 6 6 5]\n",
      " [7 6 8 7 1 7 6]\n",
      " [9 6 4 3 2 9 9]\n",
      " [4 5 6 3 9 2 9]\n",
      " [8 3 9 8 8 8 8]]\n",
      "\n",
      "Сдвинутая матрица:\n",
      "[[8 8 8 6 2 8 1]\n",
      " [7 8 1 5 6 5 5]\n",
      " [9 1 3 7 4 9 8]\n",
      " [6 1 3 4 8 9 9]\n",
      " [3 9 2 3 2 3 6]\n",
      " [6 5 7 6 8 7 1]\n",
      " [7 6 9 6 4 3 2]\n",
      " [9 9 4 5 6 3 9]\n",
      " [2 9 8 3 9 8 8]]\n"
     ]
    }
   ],
   "source": [
    "shifted_matrix = cyclic_shift(matrix, n, mode)\n",
    "\n",
    "print(\"Исходная матрица:\")\n",
    "print(matrix)\n",
    "print(\"\\nСдвинутая матрица:\")\n",
    "print(shifted_matrix)"
   ]
  }
 ],
 "metadata": {
  "kernelspec": {
   "display_name": "Python 3 (ipykernel)",
   "language": "python",
   "name": "python3"
  },
  "language_info": {
   "codemirror_mode": {
    "name": "ipython",
    "version": 3
   },
   "file_extension": ".py",
   "mimetype": "text/x-python",
   "name": "python",
   "nbconvert_exporter": "python",
   "pygments_lexer": "ipython3",
   "version": "3.11.1"
  }
 },
 "nbformat": 4,
 "nbformat_minor": 5
}
